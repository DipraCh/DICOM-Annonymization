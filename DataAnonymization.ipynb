{
 "cells": [
  {
   "cell_type": "code",
   "execution_count": 1,
   "metadata": {},
   "outputs": [],
   "source": [
    "import pydicom\n",
    "import os\n",
    "from glob import glob"
   ]
  },
  {
   "cell_type": "code",
   "execution_count": 2,
   "metadata": {},
   "outputs": [
    {
     "data": {
      "text/plain": [
       "'/root/notebooks'"
      ]
     },
     "execution_count": 2,
     "metadata": {},
     "output_type": "execute_result"
    }
   ],
   "source": [
    "pwd"
   ]
  },
  {
   "cell_type": "code",
   "execution_count": 3,
   "metadata": {},
   "outputs": [
    {
     "name": "stdout",
     "output_type": "stream",
     "text": [
      "Enter data path: /root/notebooks/NEW\n"
     ]
    }
   ],
   "source": [
    "data_path = input(\"Enter data path: \")"
   ]
  },
  {
   "cell_type": "code",
   "execution_count": 4,
   "metadata": {},
   "outputs": [
    {
     "name": "stdout",
     "output_type": "stream",
     "text": [
      "Total of 5 DICOM images.\n",
      "First 5 filenames:\n",
      "/root/notebooks/NEW/2.dcm\n",
      "/root/notebooks/NEW/5.dcm\n",
      "/root/notebooks/NEW/1.dcm\n",
      "/root/notebooks/NEW/3.dcm\n",
      "/root/notebooks/NEW/4.dcm\n"
     ]
    }
   ],
   "source": [
    "#To Check if the files present in the folder consist DICOMS Files\n",
    "g = glob(data_path + '/*.dcm')\n",
    "print (\"Total of %d DICOM images.\\nFirst 5 filenames:\" % len(g))\n",
    "print ('\\n'.join(g[:5]))"
   ]
  },
  {
   "cell_type": "markdown",
   "metadata": {},
   "source": [
    "# Create mapping table:"
   ]
  },
  {
   "cell_type": "code",
   "execution_count": 70,
   "metadata": {},
   "outputs": [],
   "source": [
    "import sqlite3 #Using the SQLite3 library\n",
    "conn = sqlite3.connect(':memory:') #Making a connection with the databsse\n",
    "c = conn.cursor()"
   ]
  },
  {
   "cell_type": "code",
   "execution_count": 71,
   "metadata": {},
   "outputs": [],
   "source": [
    "#UNMASKED & MASKED TABLE:\n",
    "unmasked_table= \"\"\"CREATE TABLE unmasked(\n",
    "                    PatientID text,\n",
    "                    PatientName text,\n",
    "                    PatientAddress text,\n",
    "                    PatientDOB text,\n",
    "                    PatientSex text,\n",
    "                    PhysicianName text,\n",
    "                    Manufacturer text,\n",
    "                    PRIMARY KEY (PatientID)\n",
    "                    )\"\"\"\n",
    "masked_table=\"\"\"CREATE TABLE masked( \n",
    "                    Pat_id integer, \n",
    "                    Mask_name text, \n",
    "                    Mask_address text, \n",
    "                    Mask_Birth_Date text, \n",
    "                    Mask_Sex text,  \n",
    "                    Mask_Manufacturer text, \n",
    "                    Mask_Physician_Name text, \n",
    "                    FOREIGN KEY(Pat_id) REFERENCES unmasked (PatientID)\n",
    "                )\"\"\"\n",
    "c.execute(unmasked_table)\n",
    "c.execute(masked_table)\n",
    "conn.commit()"
   ]
  },
  {
   "cell_type": "code",
   "execution_count": 72,
   "metadata": {},
   "outputs": [
    {
     "name": "stdout",
     "output_type": "stream",
     "text": [
      "2.dcm\n",
      "5.dcm\n",
      "1.dcm\n",
      "3.dcm\n",
      "4.dcm\n"
     ]
    }
   ],
   "source": [
    "for s in os.listdir(data_path):\n",
    "        if 'ipynb_checkpoints' not in s.split('.'):\n",
    "            print (s)\n",
    "            slices = pydicom.read_file(data_path + '/' + s)\n",
    "            c.execute(f\"\"\"INSERT INTO unmasked VALUES ('{slices.PatientID}','{slices.PatientName}',\n",
    "                      '{slices[0x0010, 0x1040].value}','{slices[0x0010, 0x0030].value}','{slices[0x0010, 0x0040].value}',\n",
    "                      '{slices[0x0008, 0x0090].value}','{slices[0x0008, 0x0070].value}')\"\"\")\n",
    "            c.execute(f\"\"\"INSERT INTO masked VALUES('{slices.PatientID}','XXXX','XXXX','XXXXXX','XX','XXXX','XXXX')\"\"\")\n",
    "            conn.commit()"
   ]
  },
  {
   "cell_type": "code",
   "execution_count": 73,
   "metadata": {},
   "outputs": [
    {
     "data": {
      "text/plain": [
       "[('2',\n",
       "  'Jack Joe',\n",
       "  'MARSHAM, START LANE, WHALEY BRIDGE, SK23 7BP',\n",
       "  '19620726',\n",
       "  'M',\n",
       "  'WHITTINGHAM VM^-',\n",
       "  'Philips Medical Systems'),\n",
       " ('5',\n",
       "  'Rohan Gupta',\n",
       "  'MARSHAM, START LANE, WHALEY BRIDGE, SK23 7BP',\n",
       "  '19620726',\n",
       "  'M',\n",
       "  'WHITTINGHAM VM^-',\n",
       "  'Philips Medical Systems'),\n",
       " ('1',\n",
       "  'Joe William',\n",
       "  'MARSHAM, START LANE, WHALEY BRIDGE, SK23 7BP',\n",
       "  '19620726',\n",
       "  'M',\n",
       "  'WHITTINGHAM VM^-',\n",
       "  'Philips Medical Systems'),\n",
       " ('3',\n",
       "  'Rahul Subra',\n",
       "  'MARSHAM, START LANE, WHALEY BRIDGE, SK23 7BP',\n",
       "  '19620726',\n",
       "  'M',\n",
       "  'WHITTINGHAM VM^-',\n",
       "  'Philips Medical Systems'),\n",
       " ('4',\n",
       "  'Josh Mehta',\n",
       "  'MARSHAM, START LANE, WHALEY BRIDGE, SK23 7BP',\n",
       "  '19620726',\n",
       "  'M',\n",
       "  'WHITTINGHAM VM^-',\n",
       "  'Philips Medical Systems')]"
      ]
     },
     "execution_count": 73,
     "metadata": {},
     "output_type": "execute_result"
    }
   ],
   "source": [
    "c.execute('SELECT * from unmasked')\n",
    "c.fetchall()"
   ]
  },
  {
   "cell_type": "code",
   "execution_count": 74,
   "metadata": {},
   "outputs": [
    {
     "data": {
      "text/plain": [
       "[(2, 'XXXX', 'XXXX', 'XXXXXX', 'XX', 'XXXX', 'XXXX'),\n",
       " (5, 'XXXX', 'XXXX', 'XXXXXX', 'XX', 'XXXX', 'XXXX'),\n",
       " (1, 'XXXX', 'XXXX', 'XXXXXX', 'XX', 'XXXX', 'XXXX'),\n",
       " (3, 'XXXX', 'XXXX', 'XXXXXX', 'XX', 'XXXX', 'XXXX'),\n",
       " (4, 'XXXX', 'XXXX', 'XXXXXX', 'XX', 'XXXX', 'XXXX')]"
      ]
     },
     "execution_count": 74,
     "metadata": {},
     "output_type": "execute_result"
    }
   ],
   "source": [
    "c.execute('SELECT * from masked')\n",
    "c.fetchall()"
   ]
  },
  {
   "cell_type": "markdown",
   "metadata": {},
   "source": [
    "# Mask the proper nouns in metadata"
   ]
  },
  {
   "cell_type": "code",
   "execution_count": 75,
   "metadata": {},
   "outputs": [],
   "source": [
    "def anonymize(path):\n",
    "    for i,s in enumerate(os.listdir(path)):\n",
    "        if 'ipynb_checkpoints' not in s.split('.'):\n",
    "            print (s)\n",
    "            slices = pydicom.read_file(path + '/' + s)\n",
    "            cur= c.execute('SELECT * from masked')\n",
    "            for rows in cur:\n",
    "                slices.PatientName=rows[1]\n",
    "                slices[0x0010, 0x1040].value=rows[2] #address\n",
    "                slices[0x0010, 0x0030].value=rows[3] #DOB\n",
    "                slices[0x0010, 0x0040].value=rows[4] #SEX\n",
    "                slices[0x0008, 0x0090].value=rows[5] #Manu\n",
    "                slices[0x0008, 0x0070].value=rows[6] #Physician's Name   \n",
    "            slices.save_as(f'masked{slices.PatientID}.dcm')\n",
    "                "
   ]
  },
  {
   "cell_type": "code",
   "execution_count": 76,
   "metadata": {},
   "outputs": [],
   "source": [
    "def deanonymize(path):\n",
    "    for i,s in enumerate(os.listdir(path)):\n",
    "        if 'ipynb_checkpoints' not in s.split('.'):\n",
    "            print (s)\n",
    "            slices = pydicom.dcmread(path + '/' + s)\n",
    "            cur= c.execute(f'SELECT * from unmasked where PatientID = {slices.PatientID}')\n",
    "            for rows in cur:\n",
    "                slices.PatientName=rows[1]\n",
    "                slices[0x0010, 0x1040].value=rows[2] #address\n",
    "                slices[0x0010, 0x0030].value=rows[3] #DOB\n",
    "                slices[0x0010, 0x0040].value=rows[4] #SEX\n",
    "                slices[0x0008, 0x0090].value=rows[6] #Manu\n",
    "                slices[0x0008, 0x0070].value=rows[5] #Physician's Name   \n",
    "            slices.save_as(f'unmasked{slices.PatientID}.dcm')\n",
    "              "
   ]
  },
  {
   "cell_type": "code",
   "execution_count": 77,
   "metadata": {},
   "outputs": [
    {
     "name": "stdout",
     "output_type": "stream",
     "text": [
      "2.dcm\n",
      "5.dcm\n",
      "1.dcm\n",
      "3.dcm\n",
      "4.dcm\n"
     ]
    }
   ],
   "source": [
    "anonymize(data_path)"
   ]
  },
  {
   "cell_type": "code",
   "execution_count": 78,
   "metadata": {},
   "outputs": [
    {
     "name": "stdout",
     "output_type": "stream",
     "text": [
      "masked2.dcm\n",
      "masked5.dcm\n",
      "masked1.dcm\n",
      "masked3.dcm\n",
      "masked4.dcm\n"
     ]
    }
   ],
   "source": [
    "deanonymize('/root/notebooks/Unmasked')"
   ]
  },
  {
   "cell_type": "code",
   "execution_count": 208,
   "metadata": {},
   "outputs": [],
   "source": [
    "slices = pydicom.read_file('/root/notebooks/NEW/5.dcm')"
   ]
  },
  {
   "cell_type": "code",
   "execution_count": 209,
   "metadata": {},
   "outputs": [
    {
     "data": {
      "text/plain": [
       "'Rohan Gupta'"
      ]
     },
     "execution_count": 209,
     "metadata": {},
     "output_type": "execute_result"
    }
   ],
   "source": [
    "slices['0x0010','0x0010'].value"
   ]
  },
  {
   "cell_type": "code",
   "execution_count": 242,
   "metadata": {},
   "outputs": [],
   "source": [
    "#def anonymize_any_tag(tag1,tag2):\n",
    "#    PatID=[]\n",
    "#    org_dict={}\n",
    "#    for i,s in enumerate(os.listdir(data_path)):\n",
    "#        if 'ipynb_checkpoints' not in s.split('.'):\n",
    "#            print (s)\n",
    "#            slices = pydicom.dcmread(data_path + '/' + s)\n",
    "#            PatID.append(slices.PatientID) \n",
    "#            L1=tuple(PatID)\n",
    "#            PatID.pop(0)\n",
    "#            dict={L1:{f'{tag1},{tag2}': ''}}\n",
    "#            dict[L1][f'{tag1},{tag2}']=slices[tag1,tag2].value\n",
    "#            org_dict[slices.PatientID]={f'{tag1},{tag2}':slices[tag1,tag2].value}\n",
    "#            slices[tag1,tag2].value='XXXX'\n",
    "#    print(org_dict)\n",
    "    \n",
    "    \n",
    "    \n",
    "    "
   ]
  },
  {
   "cell_type": "code",
   "execution_count": 276,
   "metadata": {},
   "outputs": [],
   "source": [
    "#anonymize_any_tag('0x0010','0x0010')"
   ]
  },
  {
   "cell_type": "code",
   "execution_count": 277,
   "metadata": {},
   "outputs": [
    {
     "data": {
      "text/plain": [
       "'Rohan Gupta'"
      ]
     },
     "execution_count": 277,
     "metadata": {},
     "output_type": "execute_result"
    }
   ],
   "source": [
    "slices = pydicom.read_file('/root/notebooks/NEW/5.dcm')\n",
    "slices['0x0010','0x0010'].value"
   ]
  },
  {
   "cell_type": "code",
   "execution_count": 272,
   "metadata": {},
   "outputs": [],
   "source": [
    "PatID=[]\n",
    "org_dict={}\n",
    "for i,s in enumerate(os.listdir(data_path)):\n",
    "    if 'ipynb_checkpoints' not in s.split('.'):\n",
    "        #print (s)\n",
    "        slices = pydicom.dcmread(data_path + '/' + s)\n",
    "        PatID.append(slices.PatientID) \n",
    "        L1=tuple(PatID)\n",
    "        PatID.pop(0)\n",
    "def anoy(tag1,tag2):\n",
    "    for i,s in enumerate(os.listdir(data_path)):\n",
    "        if 'ipynb_checkpoints' not in s.split('.'):\n",
    "            #print (s)\n",
    "            slices = pydicom.dcmread(data_path + '/' + s)\n",
    "            dict={L1:{f'{tag1},{tag2}': ''}}\n",
    "            dict[L1][f'{tag1},{tag2}']=slices[tag1,tag2].value\n",
    "            org_dict[slices.PatientID]={f'{tag1},{tag2}':slices[tag1,tag2].value}\n",
    "            slices[tag1,tag2].value='XXXX'\n",
    "            print(slices[tag1,tag2].value)\n",
    "            \n",
    "def deanoy(tag1,tag2):\n",
    "    for i,s in enumerate(os.listdir(data_path)):\n",
    "        if 'ipynb_checkpoints' not in s.split('.'):\n",
    "            slices = pydicom.dcmread(data_path + '/' + s)\n",
    "            slices[tag1,tag2].value=org_dict[slices.PatientID][f'{tag1},{tag2}']\n",
    "            print(slices[tag1,tag2].value)\n",
    "            \n",
    "            \n",
    "    "
   ]
  },
  {
   "cell_type": "code",
   "execution_count": 273,
   "metadata": {},
   "outputs": [
    {
     "name": "stdout",
     "output_type": "stream",
     "text": [
      "XXXX\n",
      "XXXX\n",
      "XXXX\n",
      "XXXX\n",
      "XXXX\n"
     ]
    }
   ],
   "source": [
    "anoy('0x0010','0x0010')"
   ]
  },
  {
   "cell_type": "code",
   "execution_count": 274,
   "metadata": {},
   "outputs": [
    {
     "name": "stdout",
     "output_type": "stream",
     "text": [
      "{'2': {'0x0010,0x0010': 'Jack Joe'}, '5': {'0x0010,0x0010': 'Rohan Gupta'}, '1': {'0x0010,0x0010': 'Joe William'}, '3': {'0x0010,0x0010': 'Rahul Subra'}, '4': {'0x0010,0x0010': 'Josh Mehta'}}\n"
     ]
    }
   ],
   "source": [
    "print(org_dict)"
   ]
  },
  {
   "cell_type": "code",
   "execution_count": 275,
   "metadata": {},
   "outputs": [
    {
     "name": "stdout",
     "output_type": "stream",
     "text": [
      "Jack Joe\n",
      "Rohan Gupta\n",
      "Joe William\n",
      "Rahul Subra\n",
      "Josh Mehta\n"
     ]
    }
   ],
   "source": [
    "deanoy('0x0010','0x0010')"
   ]
  },
  {
   "cell_type": "code",
   "execution_count": null,
   "metadata": {},
   "outputs": [],
   "source": []
  }
 ],
 "metadata": {
  "kernelspec": {
   "display_name": "Python 3",
   "language": "python",
   "name": "python3"
  },
  "language_info": {
   "codemirror_mode": {
    "name": "ipython",
    "version": 3
   },
   "file_extension": ".py",
   "mimetype": "text/x-python",
   "name": "python",
   "nbconvert_exporter": "python",
   "pygments_lexer": "ipython3",
   "version": "3.8.3"
  }
 },
 "nbformat": 4,
 "nbformat_minor": 4
}
